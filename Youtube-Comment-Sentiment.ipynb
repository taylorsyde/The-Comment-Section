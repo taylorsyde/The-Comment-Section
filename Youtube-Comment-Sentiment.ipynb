{
 "cells": [
  {
   "cell_type": "markdown",
   "id": "976dcb5b",
   "metadata": {},
   "source": [
    "## Import Dependancies"
   ]
  },
  {
   "cell_type": "code",
   "execution_count": 1,
   "id": "f046e027",
   "metadata": {},
   "outputs": [],
   "source": [
    "#scraping tools\n",
    "from urllib.error import HTTPError\n",
    "from datetime import datetime\n",
    "import json\n",
    "from bs4 import BeautifulSoup as bs\n",
    "import pandas as pd\n",
    "import os\n",
    "import numpy as np\n",
    "import requests\n",
    "\n",
    "# NLP tools\n",
    "import pandas as pd\n",
    "from collections import Counter\n",
    "import re\n",
    "from nltk.stem import WordNetLemmatizer, PorterStemmer, SnowballStemmer\n",
    "from nltk.corpus import stopwords\n",
    "import nltk\n",
    "from nltk.tokenize import word_tokenize\n",
    "from nltk.sentiment import SentimentIntensityAnalyzer\n",
    "\n",
    "#import API key\n",
    "from keys import magic_key\n",
    "\n",
    "#viz tools\n",
    "import matplotlib.pyplot as plt\n",
    "import seaborn as sns"
   ]
  },
  {
   "cell_type": "markdown",
   "id": "16d4e1e4",
   "metadata": {},
   "source": [
    "### Get YouTube Transcript (Currently Broken)\n",
    "\n",
    "Apparently you can't scrape the transcripts the old fashioned way. "
   ]
  },
  {
   "cell_type": "code",
   "execution_count": 2,
   "id": "fa474799",
   "metadata": {},
   "outputs": [],
   "source": [
    "# print(\"Drop in the link to the youtube video.\")\n",
    "# url = input()\n",
    "\n",
    "# # https://www.youtube.com/watch?v=jCZKEnThrjI"
   ]
  },
  {
   "cell_type": "code",
   "execution_count": 3,
   "id": "68505a62",
   "metadata": {},
   "outputs": [],
   "source": [
    "# print (f'Your url is {url}')\n",
    "# with request.urlopen(url) as response:\n",
    "#     resp = response.read()\n",
    "#     soup = bs(resp, \"html.parser\")\n",
    "#     print(\"Your youtube soup is ready!\")"
   ]
  },
  {
   "cell_type": "code",
   "execution_count": 4,
   "id": "3b36e985",
   "metadata": {},
   "outputs": [],
   "source": [
    "# print(soup)"
   ]
  },
  {
   "cell_type": "code",
   "execution_count": 5,
   "id": "afd65b0b",
   "metadata": {},
   "outputs": [],
   "source": [
    "# #pull in title and transcript from the soup\n",
    "# lil_soup = soup.find_all(\"div\", id_=\"segments-container\")\n",
    "# print(lil_soup)"
   ]
  },
  {
   "cell_type": "markdown",
   "id": "ee7d13e1",
   "metadata": {},
   "source": [
    "### Functions that Returns Youtube Comments\n",
    "Uses the Youtube API"
   ]
  },
  {
   "cell_type": "code",
   "execution_count": 6,
   "id": "c8357e20",
   "metadata": {},
   "outputs": [],
   "source": [
    "#function for getting Youtube comments with the Youtube API\n",
    "def get_comments():\n",
    "    \n",
    "    #get the parameters url from the user and create a \n",
    "    video_url = input(\"Drop in the Youtube Link: \")\n",
    "    print ('Got it! Thanks')\n",
    "    video_id = video_url[32:] #extract the video id from the url\n",
    "    # print(video_id)\n",
    "    \n",
    "    # init API query\n",
    "    comment_url = f\"https://www.googleapis.com/youtube/v3/commentThreads?key={magic_key}\"\n",
    "    params = f\"&textFormat=plainText&part=snippet&videoId={video_id}&maxResults=300\"\n",
    "    title_url = f'https://youtube.googleapis.com/youtube/v3/videos?part=snippet&id={video_id}&key={magic_key}'\n",
    "    \n",
    "    # 1ST API CALL\n",
    "    response = requests.get(title_url).json()\n",
    "    video_title = response['items'][0]['snippet']['title']\n",
    "    \n",
    "    # 2ND API CALL\n",
    "    query_url = comment_url + params\n",
    "    response = requests.get(query_url).json()\n",
    "    \n",
    "    \n",
    "    # LOOP THRU COMMENTS AND GET THAT YUMMY COMMENT TEXT\n",
    "    # response['items'][10] # this is the format of a SINGLE COMM\n",
    "    #raw_comment_list = response['items']\n",
    "\n",
    "    num_comments = response['pageInfo']['totalResults'] # number of comments acutally returned from API\n",
    "    counter = np.arange(0,num_comments) # create list to count thru\n",
    "    print(f'We found {num_comments} comments for {video_title}.')\n",
    "\n",
    "    comments = [video_title]\n",
    "    for c in counter:\n",
    "        comment_text = response['items'][c]['snippet']['topLevelComment']['snippet']['textOriginal']\n",
    "        #print(comment_text)\n",
    "        #print('------------------')\n",
    "        comments.append(comment_text)\n",
    "        \n",
    "    return comments"
   ]
  },
  {
   "cell_type": "code",
   "execution_count": 7,
   "id": "10269e7d",
   "metadata": {},
   "outputs": [
    {
     "name": "stdout",
     "output_type": "stream",
     "text": [
      "Drop in the Youtube Link: https://www.youtube.com/watch?v=jCZKEnThrjI&t=7s\n",
      "Got it! Thanks\n",
      "We found 100 comments for The Good Death's Caitlin Doughty Talks Money, Fear, Death, and Awesome Bangs.\n"
     ]
    }
   ],
   "source": [
    "# testing function\n",
    "comments = get_comments()"
   ]
  },
  {
   "cell_type": "markdown",
   "id": "c7e4b733",
   "metadata": {},
   "source": [
    "### Functions to Determine Sentiment"
   ]
  },
  {
   "cell_type": "code",
   "execution_count": 8,
   "id": "1f792841",
   "metadata": {},
   "outputs": [],
   "source": [
    "def get_sentimental(string_list):\n",
    "    sia = SentimentIntensityAnalyzer()\n",
    "\n",
    "    #init lists\n",
    "    text = []\n",
    "    neg_score = []\n",
    "    neu_score = []\n",
    "    pos_score = []\n",
    "    compound_score = []\n",
    "\n",
    "    for string in string_list[1:]:\n",
    "        siaOut = sia.polarity_scores(string)\n",
    "\n",
    "        text.append(string)\n",
    "        neg_score.append(siaOut['neg'])\n",
    "        neu_score.append(siaOut['neu'])\n",
    "        pos_score.append(siaOut['pos'])\n",
    "        compound_score.append(siaOut['compound'])\n",
    "\n",
    "    #     print(comment)\n",
    "    #     print(siaOut)\n",
    "    #     print('-------------')\n",
    "\n",
    "    # create a dataframe of the comments and their sentiments\n",
    "    df = pd.DataFrame({'text': text,\n",
    "                       'neg_score': neg_score,\n",
    "                       'neu_score': neu_score,\n",
    "                       'pos_score': pos_score,\n",
    "                       'compound_score': compound_score\n",
    "                      })\n",
    "    df['video_title'] = string_list[0]\n",
    "    \n",
    "    return df"
   ]
  },
  {
   "cell_type": "code",
   "execution_count": 9,
   "id": "db9b19c6",
   "metadata": {},
   "outputs": [],
   "source": [
    "def main():\n",
    "    comments = get_comments()\n",
    "    df = get_sentimental(comments)\n",
    "    \n",
    "    return df"
   ]
  },
  {
   "cell_type": "code",
   "execution_count": 10,
   "id": "041ac566",
   "metadata": {},
   "outputs": [
    {
     "name": "stdout",
     "output_type": "stream",
     "text": [
      "Drop in the Youtube Link: https://www.youtube.com/watch?v=jCZKEnThrjI&t=7s\n",
      "Got it! Thanks\n",
      "We found 100 comments for The Good Death's Caitlin Doughty Talks Money, Fear, Death, and Awesome Bangs.\n"
     ]
    },
    {
     "data": {
      "text/html": [
       "<div>\n",
       "<style scoped>\n",
       "    .dataframe tbody tr th:only-of-type {\n",
       "        vertical-align: middle;\n",
       "    }\n",
       "\n",
       "    .dataframe tbody tr th {\n",
       "        vertical-align: top;\n",
       "    }\n",
       "\n",
       "    .dataframe thead th {\n",
       "        text-align: right;\n",
       "    }\n",
       "</style>\n",
       "<table border=\"1\" class=\"dataframe\">\n",
       "  <thead>\n",
       "    <tr style=\"text-align: right;\">\n",
       "      <th></th>\n",
       "      <th>text</th>\n",
       "      <th>neg_score</th>\n",
       "      <th>neu_score</th>\n",
       "      <th>pos_score</th>\n",
       "      <th>compound_score</th>\n",
       "      <th>video_title</th>\n",
       "    </tr>\n",
       "  </thead>\n",
       "  <tbody>\n",
       "    <tr>\n",
       "      <th>0</th>\n",
       "      <td>In this episode of The Financial Diet Chelsea'...</td>\n",
       "      <td>0.163</td>\n",
       "      <td>0.739</td>\n",
       "      <td>0.098</td>\n",
       "      <td>-0.5803</td>\n",
       "      <td>The Good Death's Caitlin Doughty Talks Money, ...</td>\n",
       "    </tr>\n",
       "    <tr>\n",
       "      <th>1</th>\n",
       "      <td>1:07:13 the fact that this was recorded in Dec...</td>\n",
       "      <td>0.000</td>\n",
       "      <td>1.000</td>\n",
       "      <td>0.000</td>\n",
       "      <td>0.0000</td>\n",
       "      <td>The Good Death's Caitlin Doughty Talks Money, ...</td>\n",
       "    </tr>\n",
       "    <tr>\n",
       "      <th>2</th>\n",
       "      <td>She looks like liv Tyler</td>\n",
       "      <td>0.000</td>\n",
       "      <td>0.615</td>\n",
       "      <td>0.385</td>\n",
       "      <td>0.3612</td>\n",
       "      <td>The Good Death's Caitlin Doughty Talks Money, ...</td>\n",
       "    </tr>\n",
       "    <tr>\n",
       "      <th>3</th>\n",
       "      <td>Love you both!</td>\n",
       "      <td>0.000</td>\n",
       "      <td>0.308</td>\n",
       "      <td>0.692</td>\n",
       "      <td>0.6696</td>\n",
       "      <td>The Good Death's Caitlin Doughty Talks Money, ...</td>\n",
       "    </tr>\n",
       "    <tr>\n",
       "      <th>4</th>\n",
       "      <td>My mother is 72 and created an advanced direct...</td>\n",
       "      <td>0.080</td>\n",
       "      <td>0.739</td>\n",
       "      <td>0.181</td>\n",
       "      <td>0.7579</td>\n",
       "      <td>The Good Death's Caitlin Doughty Talks Money, ...</td>\n",
       "    </tr>\n",
       "    <tr>\n",
       "      <th>...</th>\n",
       "      <td>...</td>\n",
       "      <td>...</td>\n",
       "      <td>...</td>\n",
       "      <td>...</td>\n",
       "      <td>...</td>\n",
       "      <td>...</td>\n",
       "    </tr>\n",
       "    <tr>\n",
       "      <th>95</th>\n",
       "      <td>My grandma always says “I don’t have to do any...</td>\n",
       "      <td>0.056</td>\n",
       "      <td>0.776</td>\n",
       "      <td>0.168</td>\n",
       "      <td>0.6310</td>\n",
       "      <td>The Good Death's Caitlin Doughty Talks Money, ...</td>\n",
       "    </tr>\n",
       "    <tr>\n",
       "      <th>96</th>\n",
       "      <td>'Do you want bangs or do you need to go to the...</td>\n",
       "      <td>0.000</td>\n",
       "      <td>0.777</td>\n",
       "      <td>0.223</td>\n",
       "      <td>0.5106</td>\n",
       "      <td>The Good Death's Caitlin Doughty Talks Money, ...</td>\n",
       "    </tr>\n",
       "    <tr>\n",
       "      <th>97</th>\n",
       "      <td>At the funeral home I just quit from the avera...</td>\n",
       "      <td>0.200</td>\n",
       "      <td>0.800</td>\n",
       "      <td>0.000</td>\n",
       "      <td>-0.6124</td>\n",
       "      <td>The Good Death's Caitlin Doughty Talks Money, ...</td>\n",
       "    </tr>\n",
       "    <tr>\n",
       "      <th>98</th>\n",
       "      <td>The thing I have heard mentioned is, once you ...</td>\n",
       "      <td>0.000</td>\n",
       "      <td>0.808</td>\n",
       "      <td>0.192</td>\n",
       "      <td>0.9345</td>\n",
       "      <td>The Good Death's Caitlin Doughty Talks Money, ...</td>\n",
       "    </tr>\n",
       "    <tr>\n",
       "      <th>99</th>\n",
       "      <td>I work at an investment bank in the tech area,...</td>\n",
       "      <td>0.126</td>\n",
       "      <td>0.807</td>\n",
       "      <td>0.067</td>\n",
       "      <td>-0.7923</td>\n",
       "      <td>The Good Death's Caitlin Doughty Talks Money, ...</td>\n",
       "    </tr>\n",
       "  </tbody>\n",
       "</table>\n",
       "<p>100 rows × 6 columns</p>\n",
       "</div>"
      ],
      "text/plain": [
       "                                                 text  neg_score  neu_score  \\\n",
       "0   In this episode of The Financial Diet Chelsea'...      0.163      0.739   \n",
       "1   1:07:13 the fact that this was recorded in Dec...      0.000      1.000   \n",
       "2                            She looks like liv Tyler      0.000      0.615   \n",
       "3                                      Love you both!      0.000      0.308   \n",
       "4   My mother is 72 and created an advanced direct...      0.080      0.739   \n",
       "..                                                ...        ...        ...   \n",
       "95  My grandma always says “I don’t have to do any...      0.056      0.776   \n",
       "96  'Do you want bangs or do you need to go to the...      0.000      0.777   \n",
       "97  At the funeral home I just quit from the avera...      0.200      0.800   \n",
       "98  The thing I have heard mentioned is, once you ...      0.000      0.808   \n",
       "99  I work at an investment bank in the tech area,...      0.126      0.807   \n",
       "\n",
       "    pos_score  compound_score  \\\n",
       "0       0.098         -0.5803   \n",
       "1       0.000          0.0000   \n",
       "2       0.385          0.3612   \n",
       "3       0.692          0.6696   \n",
       "4       0.181          0.7579   \n",
       "..        ...             ...   \n",
       "95      0.168          0.6310   \n",
       "96      0.223          0.5106   \n",
       "97      0.000         -0.6124   \n",
       "98      0.192          0.9345   \n",
       "99      0.067         -0.7923   \n",
       "\n",
       "                                          video_title  \n",
       "0   The Good Death's Caitlin Doughty Talks Money, ...  \n",
       "1   The Good Death's Caitlin Doughty Talks Money, ...  \n",
       "2   The Good Death's Caitlin Doughty Talks Money, ...  \n",
       "3   The Good Death's Caitlin Doughty Talks Money, ...  \n",
       "4   The Good Death's Caitlin Doughty Talks Money, ...  \n",
       "..                                                ...  \n",
       "95  The Good Death's Caitlin Doughty Talks Money, ...  \n",
       "96  The Good Death's Caitlin Doughty Talks Money, ...  \n",
       "97  The Good Death's Caitlin Doughty Talks Money, ...  \n",
       "98  The Good Death's Caitlin Doughty Talks Money, ...  \n",
       "99  The Good Death's Caitlin Doughty Talks Money, ...  \n",
       "\n",
       "[100 rows x 6 columns]"
      ]
     },
     "execution_count": 10,
     "metadata": {},
     "output_type": "execute_result"
    }
   ],
   "source": [
    "main()"
   ]
  },
  {
   "cell_type": "markdown",
   "id": "b067e548",
   "metadata": {},
   "source": [
    "## Positive Comment Test"
   ]
  },
  {
   "cell_type": "code",
   "execution_count": 11,
   "id": "16aabffb",
   "metadata": {},
   "outputs": [
    {
     "name": "stdout",
     "output_type": "stream",
     "text": [
      "Drop in the Youtube Link: https://www.youtube.com/watch?v=jCZKEnThrjI&t=7s\n",
      "Got it! Thanks\n",
      "We found 100 comments for The Good Death's Caitlin Doughty Talks Money, Fear, Death, and Awesome Bangs.\n"
     ]
    }
   ],
   "source": [
    "# test on video with positive comments\n",
    "# https://www.youtube.com/watch?v=jCZKEnThrjI&t=7s (Caitlin Doughty and Chelsea Fagan Podcast)\n",
    "\n",
    "test = main()"
   ]
  },
  {
   "cell_type": "code",
   "execution_count": 12,
   "id": "49d9f6f8",
   "metadata": {},
   "outputs": [
    {
     "name": "stdout",
     "output_type": "stream",
     "text": [
      "Average Compound Score 0.270128\n"
     ]
    }
   ],
   "source": [
    "print(f'Average Compound Score {test.compound_score.mean()}')"
   ]
  },
  {
   "cell_type": "code",
   "execution_count": 13,
   "id": "4fcba9aa",
   "metadata": {},
   "outputs": [
    {
     "data": {
      "text/plain": [
       "<matplotlib.collections.PathCollection at 0x28cac93bf70>"
      ]
     },
     "execution_count": 13,
     "metadata": {},
     "output_type": "execute_result"
    },
    {
     "data": {
      "image/png": "[encoded data removed]",
      "text/plain": [
       "<Figure size 432x288 with 1 Axes>"
      ]
     },
     "metadata": {
      "needs_background": "light"
     },
     "output_type": "display_data"
    }
   ],
   "source": [
    "# scatterplot test (NOT GREAT)\n",
    "plt.scatter(test.index, test.compound_score)"
   ]
  },
  {
   "cell_type": "code",
   "execution_count": 14,
   "id": "76c3986c",
   "metadata": {},
   "outputs": [
    {
     "data": {
      "text/plain": [
       "<AxesSubplot:xlabel='compound_score'>"
      ]
     },
     "execution_count": 14,
     "metadata": {},
     "output_type": "execute_result"
    },
    {
     "data": {
      "image/png": "[encoded data removed]",
      "text/plain": [
       "<Figure size 432x288 with 1 Axes>"
      ]
     },
     "metadata": {
      "needs_background": "light"
     },
     "output_type": "display_data"
    }
   ],
   "source": [
    "# swarmplot test (BETTER)\n",
    "sns.swarmplot(x=test.compound_score)"
   ]
  },
  {
   "cell_type": "code",
   "execution_count": 15,
   "id": "addd002d",
   "metadata": {},
   "outputs": [
    {
     "data": {
      "text/plain": [
       "<AxesSubplot:ylabel='Density'>"
      ]
     },
     "execution_count": 15,
     "metadata": {},
     "output_type": "execute_result"
    },
    {
     "data": {
      "image/png": "[encoded data removed]",
      "text/plain": [
       "<Figure size 432x288 with 1 Axes>"
      ]
     },
     "metadata": {
      "needs_background": "light"
     },
     "output_type": "display_data"
    }
   ],
   "source": [
    "#density plot (WHAT IS THIS EVEN)\n",
    "test.compound_score.plot(kind='density')"
   ]
  },
  {
   "cell_type": "code",
   "execution_count": 16,
   "id": "941a8fc4",
   "metadata": {},
   "outputs": [
    {
     "data": {
      "text/plain": [
       "<AxesSubplot:xlabel='compound_score'>"
      ]
     },
     "execution_count": 16,
     "metadata": {},
     "output_type": "execute_result"
    },
    {
     "data": {
      "image/png": "[encoded data removed]",
      "text/plain": [
       "<Figure size 432x288 with 1 Axes>"
      ]
     },
     "metadata": {
      "needs_background": "light"
     },
     "output_type": "display_data"
    }
   ],
   "source": [
    "#violinplot test (I LIKE IT BUT NEED MORE INFO)\n",
    "sns.violinplot(x=test.compound_score)"
   ]
  },
  {
   "cell_type": "code",
   "execution_count": 17,
   "id": "843742f9",
   "metadata": {},
   "outputs": [
    {
     "data": {
      "text/plain": [
       "(array([ 5.,  5.,  8.,  4., 15.,  4., 12.,  8., 22., 17.]),\n",
       " array([-0.9416 , -0.74881, -0.55602, -0.36323, -0.17044,  0.02235,\n",
       "         0.21514,  0.40793,  0.60072,  0.79351,  0.9863 ]),\n",
       " <BarContainer object of 10 artists>)"
      ]
     },
     "execution_count": 17,
     "metadata": {},
     "output_type": "execute_result"
    },
    {
     "data": {
      "image/png": "[encoded data removed]",
      "text/plain": [
       "<Figure size 432x288 with 1 Axes>"
      ]
     },
     "metadata": {
      "needs_background": "light"
     },
     "output_type": "display_data"
    }
   ],
   "source": [
    "#histogram test\n",
    "plt.hist(test.compound_score)"
   ]
  },
  {
   "cell_type": "code",
   "execution_count": null,
   "id": "0278b2ca",
   "metadata": {},
   "outputs": [],
   "source": []
  },
  {
   "cell_type": "markdown",
   "id": "2146700a",
   "metadata": {},
   "source": [
    "## Negative Comment Test"
   ]
  },
  {
   "cell_type": "code",
   "execution_count": 18,
   "id": "39147ef4",
   "metadata": {},
   "outputs": [
    {
     "name": "stdout",
     "output_type": "stream",
     "text": [
      "Drop in the Youtube Link: https://www.youtube.com/watch?v=YbJOTdZBX1g\n",
      "Got it! Thanks\n",
      "We found 100 comments for YouTube Rewind 2018: Everyone Controls Rewind | #YouTubeRewind.\n"
     ]
    }
   ],
   "source": [
    "# test on video with positive comments\n",
    "# https://www.youtube.com/watch?v=YbJOTdZBX1g&t (2018 Youtube Rewind)\n",
    "\n",
    "test_2 = main()"
   ]
  },
  {
   "cell_type": "code",
   "execution_count": 19,
   "id": "22599544",
   "metadata": {},
   "outputs": [
    {
     "name": "stdout",
     "output_type": "stream",
     "text": [
      "Average Compound Score -0.14402600000000002\n"
     ]
    }
   ],
   "source": [
    "print(f'Average Compound Score {test_2.compound_score.mean()}')"
   ]
  },
  {
   "cell_type": "code",
   "execution_count": 20,
   "id": "68fd4e43",
   "metadata": {},
   "outputs": [
    {
     "data": {
      "text/plain": [
       "<matplotlib.collections.PathCollection at 0x28cad282fd0>"
      ]
     },
     "execution_count": 20,
     "metadata": {},
     "output_type": "execute_result"
    },
    {
     "data": {
      "image/png": "[encoded data removed]",
      "text/plain": [
       "<Figure size 432x288 with 1 Axes>"
      ]
     },
     "metadata": {
      "needs_background": "light"
     },
     "output_type": "display_data"
    }
   ],
   "source": [
    "# scatterplot test (NOT GREAT)\n",
    "plt.scatter(test_2.index, test_2.compound_score, color='r')"
   ]
  },
  {
   "cell_type": "code",
   "execution_count": 21,
   "id": "ff52e9cc",
   "metadata": {},
   "outputs": [
    {
     "data": {
      "text/plain": [
       "<AxesSubplot:xlabel='compound_score'>"
      ]
     },
     "execution_count": 21,
     "metadata": {},
     "output_type": "execute_result"
    },
    {
     "data": {
      "image/png": "[encoded data removed]",
      "text/plain": [
       "<Figure size 432x288 with 1 Axes>"
      ]
     },
     "metadata": {
      "needs_background": "light"
     },
     "output_type": "display_data"
    }
   ],
   "source": [
    "# swarmplot test (BETTER)\n",
    "sns.swarmplot(x=test_2.compound_score, color='r')"
   ]
  },
  {
   "cell_type": "code",
   "execution_count": 22,
   "id": "6e66326d",
   "metadata": {},
   "outputs": [
    {
     "data": {
      "text/plain": [
       "<AxesSubplot:ylabel='Density'>"
      ]
     },
     "execution_count": 22,
     "metadata": {},
     "output_type": "execute_result"
    },
    {
     "data": {
      "image/png": "[encoded data removed]",
      "text/plain": [
       "<Figure size 432x288 with 1 Axes>"
      ]
     },
     "metadata": {
      "needs_background": "light"
     },
     "output_type": "display_data"
    }
   ],
   "source": [
    "#density plot (WHAT IS THIS EVEN)\n",
    "test_2.compound_score.plot(kind='density',color='r')"
   ]
  },
  {
   "cell_type": "code",
   "execution_count": 23,
   "id": "da335319",
   "metadata": {},
   "outputs": [
    {
     "data": {
      "text/plain": [
       "<AxesSubplot:xlabel='compound_score'>"
      ]
     },
     "execution_count": 23,
     "metadata": {},
     "output_type": "execute_result"
    },
    {
     "data": {
      "image/png": "[encoded data removed]",
      "text/plain": [
       "<Figure size 432x288 with 1 Axes>"
      ]
     },
     "metadata": {
      "needs_background": "light"
     },
     "output_type": "display_data"
    }
   ],
   "source": [
    "#violinplot test (I LIKE IT BUT NEED MORE INFO)\n",
    "sns.violinplot(x=test_2.compound_score, color='r')"
   ]
  },
  {
   "cell_type": "code",
   "execution_count": 24,
   "id": "7f9bcc8b",
   "metadata": {},
   "outputs": [
    {
     "data": {
      "text/plain": [
       "(array([ 3.,  6.,  5., 34.,  0., 35.,  4.,  9.,  2.,  2.]),\n",
       " array([-0.9501 , -0.77132, -0.59254, -0.41376, -0.23498, -0.0562 ,\n",
       "         0.12258,  0.30136,  0.48014,  0.65892,  0.8377 ]),\n",
       " <BarContainer object of 10 artists>)"
      ]
     },
     "execution_count": 24,
     "metadata": {},
     "output_type": "execute_result"
    },
    {
     "data": {
      "image/png": "[encoded data removed]",
      "text/plain": [
       "<Figure size 432x288 with 1 Axes>"
      ]
     },
     "metadata": {
      "needs_background": "light"
     },
     "output_type": "display_data"
    }
   ],
   "source": [
    "#histogram test\n",
    "plt.hist(test_2.compound_score, color='r')"
   ]
  },
  {
   "cell_type": "markdown",
   "id": "1f157253",
   "metadata": {},
   "source": [
    "## Comparing the Two Videos"
   ]
  },
  {
   "cell_type": "code",
   "execution_count": 32,
   "id": "79dfcafe",
   "metadata": {},
   "outputs": [],
   "source": [
    "compare_df = pd.concat([test,test_2])"
   ]
  },
  {
   "cell_type": "code",
   "execution_count": 33,
   "id": "6d33d1f4",
   "metadata": {},
   "outputs": [],
   "source": [
    "compare_df['dummy'] = 0"
   ]
  },
  {
   "cell_type": "code",
   "execution_count": 34,
   "id": "47431c3e",
   "metadata": {},
   "outputs": [
    {
     "data": {
      "image/png": "[encoded data removed]",
      "text/plain": [
       "<Figure size 432x288 with 1 Axes>"
      ]
     },
     "metadata": {
      "needs_background": "light"
     },
     "output_type": "display_data"
    }
   ],
   "source": [
    "plot = sns.violinplot(data=compare_df, y='compound_score', split=True, hue='video_title', x='dummy')\n",
    "picture = plot.get_figure()\n",
    "picture.savefig('output.png')"
   ]
  },
  {
   "cell_type": "markdown",
   "id": "b56b5a22",
   "metadata": {},
   "source": [
    "### Tokenize Document"
   ]
  },
  {
   "cell_type": "code",
   "execution_count": 30,
   "id": "4c012b9f",
   "metadata": {},
   "outputs": [],
   "source": [
    "file = \"Resources/Corpus_Podcast\""
   ]
  },
  {
   "cell_type": "code",
   "execution_count": 31,
   "id": "01b81827",
   "metadata": {},
   "outputs": [
    {
     "ename": "FileNotFoundError",
     "evalue": "[Errno 2] No such file or directory: 'Resources/Corpus_Podcast'",
     "output_type": "error",
     "traceback": [
      "\u001b[1;31m---------------------------------------------------------------------------\u001b[0m",
      "\u001b[1;31mFileNotFoundError\u001b[0m                         Traceback (most recent call last)",
      "\u001b[1;32m<ipython-input-31-71c2e5fac3a3>\u001b[0m in \u001b[0;36m<module>\u001b[1;34m\u001b[0m\n\u001b[1;32m----> 1\u001b[1;33m \u001b[1;32mwith\u001b[0m \u001b[0mopen\u001b[0m\u001b[1;33m(\u001b[0m\u001b[0mfile\u001b[0m\u001b[1;33m)\u001b[0m \u001b[1;32mas\u001b[0m \u001b[0mf\u001b[0m\u001b[1;33m:\u001b[0m\u001b[1;33m\u001b[0m\u001b[1;33m\u001b[0m\u001b[0m\n\u001b[0m\u001b[0;32m      2\u001b[0m     \u001b[0mraw_text\u001b[0m \u001b[1;33m=\u001b[0m \u001b[0mf\u001b[0m\u001b[1;33m.\u001b[0m\u001b[0mreadlines\u001b[0m\u001b[1;33m(\u001b[0m\u001b[1;33m)\u001b[0m\u001b[1;33m\u001b[0m\u001b[1;33m\u001b[0m\u001b[0m\n",
      "\u001b[1;31mFileNotFoundError\u001b[0m: [Errno 2] No such file or directory: 'Resources/Corpus_Podcast'"
     ]
    }
   ],
   "source": [
    "with open(file) as f:\n",
    "    raw_text = f.readlines()"
   ]
  },
  {
   "cell_type": "code",
   "execution_count": null,
   "id": "f5d3fd57",
   "metadata": {},
   "outputs": [],
   "source": [
    "def to_tokens(dirty_text):\n",
    "    \n",
    "    big_string = ' '.join(dirty_text).lower() # join and lower into big string\n",
    "    big_string = re.sub(r\"[^a-z0-9'\\s]\", '', big_string) #drop punctuation\n",
    "    big_string = re.sub(r'\\d+', '', big_string) # remove numbers\n",
    "    \n",
    "    tokens = nltk.word_tokenize(big_string) # tokenize with nltk\n",
    "    print(f'Your text is now {len(tokens)} tokens.')\n",
    "    \n",
    "    print(\"Drop it like it's stop.\")\n",
    "    #loop thru words and strip stop words\n",
    "    cleaned_words = []\n",
    "    for token in tokens:\n",
    "        if token not in stopwords.words('english'):\n",
    "            cleaned_words.append(token)\n",
    "            \n",
    "    print(f'Now your text is only {len(cleaned_words)} tokens.')\n",
    "    \n",
    "    return tokens"
   ]
  },
  {
   "cell_type": "code",
   "execution_count": null,
   "id": "51ba7e7b",
   "metadata": {},
   "outputs": [],
   "source": [
    "tokens = to_tokens(raw_text)\n",
    "tokens"
   ]
  },
  {
   "cell_type": "code",
   "execution_count": null,
   "id": "7e75aaea",
   "metadata": {},
   "outputs": [],
   "source": [
    "def score_text(dirty_text):\n",
    "    \n",
    "    big_string = ' '.join(dirty_text).lower() # join and lower into big string\n",
    "    big_string = big_string.replace('.','').replace(',','') #drop commas and periods\n",
    "    \n",
    "    sia = SentimentIntensityAnalyzer()\n",
    "    siaOut = sia.polarity_scores(big_string)\n",
    "    print(siaOut)"
   ]
  },
  {
   "cell_type": "code",
   "execution_count": null,
   "id": "b43c3529",
   "metadata": {},
   "outputs": [],
   "source": [
    "score_text(tokens)"
   ]
  },
  {
   "cell_type": "code",
   "execution_count": null,
   "id": "5d687896",
   "metadata": {},
   "outputs": [],
   "source": [
    "score_text(raw_text)"
   ]
  },
  {
   "cell_type": "code",
   "execution_count": null,
   "id": "a8d05a24",
   "metadata": {},
   "outputs": [],
   "source": []
  }
 ],
 "metadata": {
  "kernelspec": {
   "display_name": "Python 3",
   "language": "python",
   "name": "python3"
  },
  "language_info": {
   "codemirror_mode": {
    "name": "ipython",
    "version": 3
   },
   "file_extension": ".py",
   "mimetype": "text/x-python",
   "name": "python",
   "nbconvert_exporter": "python",
   "pygments_lexer": "ipython3",
   "version": "3.8.8"
  }
 },
 "nbformat": 4,
 "nbformat_minor": 5
}
