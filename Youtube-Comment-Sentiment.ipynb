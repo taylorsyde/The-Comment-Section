{
 "cells": [
  {
   "cell_type": "markdown",
   "id": "976dcb5b",
   "metadata": {},
   "source": [
    "## Import Dependancies"
   ]
  },
  {
   "cell_type": "code",
   "execution_count": 22,
   "id": "f046e027",
   "metadata": {},
   "outputs": [],
   "source": [
    "#scraping tools\n",
    "from urllib.error import HTTPError\n",
    "from datetime import datetime\n",
    "import json\n",
    "from bs4 import BeautifulSoup as bs\n",
    "import pandas as pd\n",
    "import os\n",
    "import numpy as np\n",
    "import requests\n",
    "\n",
    "# NLP tools\n",
    "import pandas as pd\n",
    "from collections import Counter\n",
    "import re\n",
    "from nltk.stem import WordNetLemmatizer, PorterStemmer, SnowballStemmer\n",
    "from nltk.corpus import stopwords\n",
    "import nltk\n",
    "from nltk.tokenize import word_tokenize\n",
    "from nltk.sentiment import SentimentIntensityAnalyzer\n",
    "\n",
    "#import API key\n",
    "from keys import magic_key\n",
    "\n",
    "#viz tools\n",
    "import matplotlib.pyplot as plt\n",
    "import seaborn as sns"
   ]
  },
  {
   "cell_type": "markdown",
   "id": "16d4e1e4",
   "metadata": {},
   "source": [
    "### Get YouTube Transcript (Currently Broken)\n",
    "\n",
    "Apparently you can't scrape the transcripts the old fashioned way. "
   ]
  },
  {
   "cell_type": "code",
   "execution_count": 11,
   "id": "fa474799",
   "metadata": {},
   "outputs": [],
   "source": [
    "# print(\"Drop in the link to the youtube video.\")\n",
    "# url = input()\n",
    "\n",
    "# # https://www.youtube.com/watch?v=jCZKEnThrjI"
   ]
  },
  {
   "cell_type": "code",
   "execution_count": 12,
   "id": "68505a62",
   "metadata": {},
   "outputs": [],
   "source": [
    "# print (f'Your url is {url}')\n",
    "# with request.urlopen(url) as response:\n",
    "#     resp = response.read()\n",
    "#     soup = bs(resp, \"html.parser\")\n",
    "#     print(\"Your youtube soup is ready!\")"
   ]
  },
  {
   "cell_type": "code",
   "execution_count": 13,
   "id": "3b36e985",
   "metadata": {},
   "outputs": [],
   "source": [
    "# print(soup)"
   ]
  },
  {
   "cell_type": "code",
   "execution_count": 14,
   "id": "afd65b0b",
   "metadata": {},
   "outputs": [],
   "source": [
    "# #pull in title and transcript from the soup\n",
    "# lil_soup = soup.find_all(\"div\", id_=\"segments-container\")\n",
    "# print(lil_soup)"
   ]
  },
  {
   "cell_type": "markdown",
   "id": "ee7d13e1",
   "metadata": {},
   "source": [
    "### Functions that Returns Youtube Comments\n",
    "Uses the Youtube API"
   ]
  },
  {
   "cell_type": "code",
   "execution_count": 72,
   "id": "c8357e20",
   "metadata": {},
   "outputs": [],
   "source": [
    "#function for getting Youtube comments with the Youtube API\n",
    "def get_comments():\n",
    "    \n",
    "    #get the parameters url from the user and create a \n",
    "    video_url = input(\"Drop in the Youtube Link: \")\n",
    "    print ('Got it! Thanks')\n",
    "    video_id = video_url[32:] #extract the video id from the url\n",
    "    # print(video_id)\n",
    "    \n",
    "    # init API query\n",
    "    comment_url = f\"https://www.googleapis.com/youtube/v3/commentThreads?key={magic_key}\"\n",
    "    params = f\"&textFormat=plainText&part=snippet&videoId={video_id}&maxResults=300\"\n",
    "    title_url = f'https://youtube.googleapis.com/youtube/v3/videos?part=snippet&id={video_id}&key={magic_key}'\n",
    "    \n",
    "    # 1ST API CALL\n",
    "    response = requests.get(title_url).json()\n",
    "    video_title = response['items'][0]['snippet']['title']\n",
    "    \n",
    "    # 2ND API CALL\n",
    "    query_url = comment_url + params\n",
    "    response = requests.get(query_url).json()\n",
    "    \n",
    "    \n",
    "    # LOOP THRU COMMENTS AND GET THAT YUMMY COMMENT TEXT\n",
    "    # response['items'][10] # this is the format of a SINGLE COMM\n",
    "    #raw_comment_list = response['items']\n",
    "\n",
    "    num_comments = response['pageInfo']['totalResults'] # number of comments acutally returned from API\n",
    "    counter = np.arange(0,num_comments) # create list to count thru\n",
    "    print(f'We found {num_comments} comments for {video_title}.')\n",
    "\n",
    "    comments = [video_title]\n",
    "    for c in counter:\n",
    "        comment_text = response['items'][c]['snippet']['topLevelComment']['snippet']['textOriginal']\n",
    "        #print(comment_text)\n",
    "        #print('------------------')\n",
    "        comments.append(comment_text)\n",
    "        \n",
    "    return comments"
   ]
  },
  {
   "cell_type": "code",
   "execution_count": 73,
   "id": "d98d0019",
   "metadata": {},
   "outputs": [
    {
     "name": "stdout",
     "output_type": "stream",
     "text": [
      "Drop in the Youtube Link: https://www.youtube.com/watch?v=2pnBCHN9EOE\n",
      "Got it! Thanks\n",
      "We found 100 comments for Bear Grylls Battles For Survival Against Spicy Wings | Hot Ones.\n"
     ]
    },
    {
     "data": {
      "text/plain": [
       "['Bear Grylls Battles For Survival Against Spicy Wings | Hot Ones',\n",
       " \"What's a tougher climb, Mount Scoville or Mount Everest?\",\n",
       " 'Never come too a party without a gift. Roger that sir. Always.',\n",
       " 'Did we get Dwayne Johnson yet on this show??',\n",
       " 'Reverse the role on Running Wild! While eating bugs 😬 Get Sean on board',\n",
       " \"I'm surprised ya'll didn't do buffalo crickets or something. What a great surprise guest!\",\n",
       " 'Whats a politically correct word for manup',\n",
       " 'My childhood!',\n",
       " 'So bear is an actual survivalist? I heard his first show was all fake. Good to know i heard wrong',\n",
       " 'WHY BEEF',\n",
       " 'Can you ask j.cole? To come on show?',\n",
       " 'How does this show survive? Super boring questions and hot wings....',\n",
       " 'Bear gryls is elite asf. This was the guest I wanted, but didn’t kno I’d get.',\n",
       " 'Didn’t he get killed by a sting ray or somthing? Hu guess not',\n",
       " \"climate change?!?   gimme a break - we don't watch this show for political BS, do we?\",\n",
       " 'Absolutely love you got bear grylls... always enjoyed his shoes but it was shocking to see him here but yepp just love it... also happy you brought to my attention that his show starts up again in 2 days!!!',\n",
       " \"This is the first full episode of hot ones I've ever watched.\",\n",
       " \"Climate change is natural, folks, and it affects Bear's pocket mostly, cause he gets paid for crying about it just like the others. It's to eventually lead to climate lockdowns and climate connected restrictions.\",\n",
       " 'Despite the grumblings of another Survival Dude I would say if his show saved even one life he already left the world a better place.',\n",
       " 'Bear is my childhood hero, great to see him on here',\n",
       " \"What's with the giant table? What year is it 2020?\",\n",
       " '@14:50 is Da Bomb',\n",
       " '“Life is a great privilege” great quote from Bear!',\n",
       " 'Great episode, but at the end why did he put the sauce on the table cloth rather than on the wooden platter, madness',\n",
       " 'Best guest you’ve ever had! Bear Grills has been one of my hero’s forever, him and Ramsay hands down the best episodes.',\n",
       " 'I thought he passed away but then I remembered it was his robot chicken character',\n",
       " 'Love how he looks like he went five minutes with Iron Mike',\n",
       " \"Is there a reason the host isn't wearing pants?\",\n",
       " \"Why does Sean look like he's not wearing pants??\",\n",
       " 'Climate change is natural. The earth is dynamic . It is not caused by man.',\n",
       " '\"Wait till this happens\" i lost it laughing when he said that',\n",
       " 'Absolute legend. I grew up watching man vs wild and idolizing him.',\n",
       " 'I would like you call someone from the Umbrella Academy cast',\n",
       " 'Is nobody gonna mention that Bear put the hot sauce on the table and not the board at 20:36 ? 💀',\n",
       " 'The First Real Survival Situation Bear Grylls Has Ever Been In.',\n",
       " 'So is no one gonna talk about the “chick wings”? Lol',\n",
       " \"Who are all these nobodies that have been on this show lately? A bunch of people I've never heard of in my life.\",\n",
       " 'Bear Grills My héroe😃',\n",
       " 'Lost me after the climate change propaganda.',\n",
       " 'Bear Grylls just ate bear spray',\n",
       " 'what a wonderfully wholesome man. I love his quiet passion for the \"wild\". very cool.',\n",
       " 'get rob dyrdek on the show',\n",
       " 'Nicest dude ever 🙏',\n",
       " 'cant believe this man is 48 years old looks every bit of only 28',\n",
       " 'Another great ep 👏',\n",
       " 'Bear was an amazing guest. His answers were so sincere and genuine.',\n",
       " 'I love it when a guest has tried all ep not to cuss (bsides wuoting Ransey lol) but usually after da bomb the eff bomb cones out, so good🤣🤣',\n",
       " 'Running Buffalo wild wings!',\n",
       " \"it's refreshing seeing Bear cuss and say brother, haha its so cool\\\\\",\n",
       " 'on the Road to civilization ...bear grylls voice',\n",
       " 'More guests like Andrew (Ch5) & Bear please. Super unexpected guests, that are proving to have some of the best interviews.',\n",
       " 'Get Jeremy Clarkson Richard Hammond or James May on',\n",
       " 'You guys should get Brennan Lee Mulligan!!',\n",
       " '\"Life should not be a journey to the grave with the intention of arriving safely in an attractive and well-preserved body.\" That\\'s a quote by Hunter S. Thompson, not a Bear Grylls original.',\n",
       " 'Love both these humans 💕',\n",
       " 'Sean should join him in the wild',\n",
       " 'He is a cool dude',\n",
       " 'Get Logan Paul on the show!',\n",
       " '“Life is a great privilege” \\n\\nWe all take life for granted, I hope I can look at my life the way he does his!',\n",
       " 'Steve backshaw for next guest?',\n",
       " 'Why no chicken wings?',\n",
       " 'Bear deserves every inch of respect  he is great for.',\n",
       " 'Now Lee Stroud?',\n",
       " 'Halle Berry is still 👑 queen',\n",
       " 'Dudes I think bear grylls might be my new favorite. Man is hilarious and a real one.',\n",
       " 'Am I the only one who likes to eat something spicy while I watch these?',\n",
       " 'This dude bear is a fraud.',\n",
       " \"You can tell he's an introvert, nice guy.\",\n",
       " \"Your eyes are watering no there not 😡 if your eyes are watering I'm dead 💀. Proceeds to eat 👄\",\n",
       " 'Get jimmy buffet',\n",
       " \"Not trying to be insensitive,  but was there something wrong with bears' right eye? Seem like it was off, swollen or squinting more.\",\n",
       " 'Little known fact. He actually stayed in a luxury hotel in between taping the various chicken wing eating scenes. A true outdoorsman would have slept on the dirt.',\n",
       " 'Guy is a legend',\n",
       " 'This is so awesome got home from camping to see this!!!!',\n",
       " 'Should’ve given him a glass of apple juice',\n",
       " 'you need to get David  Goggins on here',\n",
       " 'Bear looked like he wanted to fight everyone in the studio between laughs. 🤣',\n",
       " \"What happened to him? He looks so old and he's only 48.\",\n",
       " 'beef turns out to be bat meat?',\n",
       " \"2 hours after cooking with Dave's insanity sauce, I forgot what Id been up to previously and without thought scratched myself. Even though hands had been washed I started to feel something odd occurring between my legs. Took a minute to put the pieces together and realized the mistake Id made as an inferno took hold of my satchel. A bag of frozen broccoli provided relief and eventually the fire died down leaving me wondering if I would ever sire children. Good instincts on the caution required when handling oils that can leave their mark. Thanks for another entertaining experience Mr. Grylls. And a thank you to the Hot Ones team for bringing a unique education to the masses along with possibly the highest level of interviews to be enjoyed today. Cheers\",\n",
       " 'Such a wholesome interview. Bear seems a genuinely nice dude 🙂',\n",
       " 'What brand is Bears Hoodie? Looks awesome and comfy!',\n",
       " \"Honestly, Da Bomb is probably tje hottest sauce in this lineup and it really isn't that bad. I find Mad Dog worst.\",\n",
       " 'I wish he’d do one with Maury',\n",
       " 'Of course the climate change BS has to be jammed in there',\n",
       " 'HOLY Gigachad incarnate',\n",
       " 'Genuinely caring guest, genuine caring host. We love to see it.',\n",
       " 'I really respect him for talking about climate change. A good use of his platform 👏',\n",
       " 'Adoboloco!!!',\n",
       " \"Prince Khalid bin Salman has been Struck into Death\\r\\n\\r\\nImam Mahdi Nasser Mohammed al-Yamani\\r\\n19- Dhu’l Hijjah- 1443AH | 18-07-2022AD\\r\\n\\r\\nAllaah the Exalted Said:\\r\\n{أَمْ أَبْرَمُوا أَمْرًا فَإِنَّا مُبْرِمُونَ \\u200e﴿٧٩﴾\\u200f أَمْ يَحْسَبُونَ أَنَّا لَا نَسْمَعُ سِرَّهُمْ وَنَجْوَاهُم ۚ بَلَىٰ وَرُسُلُنَا لَدَيْهِمْ يَكْتُبُونَ \\u200e﴿٨٠﴾} صدق الله العظيم.\\r\\n{Or have they plotted some plan? Then We too are planning (79) Or do they think that We hear not their secrets and their private conversations? Yes, [We do], and Our messengers are with them recording. (80)} 43:79-80\\r\\n\\r\\nO mankind, Allaah reinforced with a third one through the struck of Khalid bin Salman into demise so that those who perished would perish upon evidence and those who lived would live upon evidence.\\r\\n\\r\\nAllaah's caliph al-Mahdi Nasser Mohammed al-Yamani\\r\\n________\",\n",
       " 'Steve O would like to talk to you',\n",
       " '100% though Sean wasn’t wearing any pants for a hot second',\n",
       " 'Would like to see Matt Stonie on here',\n",
       " 'YESSSS',\n",
       " 'Biggest fraud ever',\n",
       " 'Very small sip of milk on number 8. Not bad.',\n",
       " 'The editing on these videos are genius.',\n",
       " 'I love how this guy will eat cockroaches without batting an eye but when offered chicken wings he\\'s like \"oh no, I\\'m not sure I can bring myself to eat that, do you have beef?\"',\n",
       " \"-We've done vegan before if you like?\\n-Vegan?! Can you make it steak instead?\\nWhat a boss!\",\n",
       " 'Nice work Bear\\nGreat show you guys\\nGood series run Bear\\nGreat show too\\nYou had a spin off from your first show too\\nWas cool while it was on TV\\nSolid Dude Bear👍',\n",
       " 'Aww little dabb at the end not quite what I expected from him, but he went all the way is what counts.']"
      ]
     },
     "execution_count": 73,
     "metadata": {},
     "output_type": "execute_result"
    }
   ],
   "source": [
    "get_comments()"
   ]
  },
  {
   "cell_type": "code",
   "execution_count": null,
   "id": "10269e7d",
   "metadata": {},
   "outputs": [],
   "source": [
    "# testing function\n",
    "comments = get_comments()"
   ]
  },
  {
   "cell_type": "markdown",
   "id": "c7e4b733",
   "metadata": {},
   "source": [
    "### Functions to Determine Sentiment"
   ]
  },
  {
   "cell_type": "code",
   "execution_count": null,
   "id": "1f792841",
   "metadata": {},
   "outputs": [],
   "source": [
    "def get_sentimental(string_list):\n",
    "    sia = SentimentIntensityAnalyzer()\n",
    "\n",
    "    #init lists\n",
    "    text = []\n",
    "    neg_score = []\n",
    "    neu_score = []\n",
    "    pos_score = []\n",
    "    compound_score = []\n",
    "\n",
    "    for string in string_list:\n",
    "        siaOut = sia.polarity_scores(string)\n",
    "\n",
    "        text.append(string)\n",
    "        neg_score.append(siaOut['neg'])\n",
    "        neu_score.append(siaOut['neu'])\n",
    "        pos_score.append(siaOut['pos'])\n",
    "        compound_score.append(siaOut['compound'])\n",
    "\n",
    "    #     print(comment)\n",
    "    #     print(siaOut)\n",
    "    #     print('-------------')\n",
    "\n",
    "    # create a dataframe of the comments and their sentiments\n",
    "    df = pd.DataFrame({'text': text,\n",
    "                       'neg_score': neg_score,\n",
    "                       'neu_score': neu_score,\n",
    "                       'pos_score': pos_score,\n",
    "                       'compound_score': compound_score\n",
    "                      })\n",
    "    return df"
   ]
  },
  {
   "cell_type": "code",
   "execution_count": null,
   "id": "7b7717aa",
   "metadata": {},
   "outputs": [],
   "source": [
    "test = get_sentimental(comments)"
   ]
  },
  {
   "cell_type": "code",
   "execution_count": null,
   "id": "db9b19c6",
   "metadata": {},
   "outputs": [],
   "source": [
    "def main():\n",
    "    comments = get_comments()\n",
    "    df = get_sentimental(comments)\n",
    "    \n",
    "    return df"
   ]
  },
  {
   "cell_type": "markdown",
   "id": "b067e548",
   "metadata": {},
   "source": [
    "## Positive Comment Test"
   ]
  },
  {
   "cell_type": "code",
   "execution_count": null,
   "id": "16aabffb",
   "metadata": {},
   "outputs": [],
   "source": [
    "# test on video with positive comments\n",
    "# https://www.youtube.com/watch?v=jCZKEnThrjI&t=7s (Caitlin Doughty and Chelsea Fagan Podcast)\n",
    "\n",
    "test = main()"
   ]
  },
  {
   "cell_type": "code",
   "execution_count": null,
   "id": "49d9f6f8",
   "metadata": {},
   "outputs": [],
   "source": [
    "print(f'Average Compound Score {test.compound_score.mean()}')"
   ]
  },
  {
   "cell_type": "code",
   "execution_count": null,
   "id": "4fcba9aa",
   "metadata": {},
   "outputs": [],
   "source": [
    "# scatterplot test (NOT GREAT)\n",
    "plt.scatter(test.index, test.compound_score)"
   ]
  },
  {
   "cell_type": "code",
   "execution_count": null,
   "id": "76c3986c",
   "metadata": {},
   "outputs": [],
   "source": [
    "# swarmplot test (BETTER)\n",
    "sns.swarmplot(x=test.compound_score)"
   ]
  },
  {
   "cell_type": "code",
   "execution_count": null,
   "id": "addd002d",
   "metadata": {},
   "outputs": [],
   "source": [
    "#density plot (WHAT IS THIS EVEN)\n",
    "test.compound_score.plot(kind='density')"
   ]
  },
  {
   "cell_type": "code",
   "execution_count": null,
   "id": "941a8fc4",
   "metadata": {},
   "outputs": [],
   "source": [
    "#violinplot test (I LIKE IT BUT NEED MORE INFO)\n",
    "sns.violinplot(x=test.compound_score)"
   ]
  },
  {
   "cell_type": "code",
   "execution_count": null,
   "id": "843742f9",
   "metadata": {},
   "outputs": [],
   "source": [
    "#histogram test\n",
    "plt.hist(test.compound_score)"
   ]
  },
  {
   "cell_type": "code",
   "execution_count": null,
   "id": "0278b2ca",
   "metadata": {},
   "outputs": [],
   "source": []
  },
  {
   "cell_type": "markdown",
   "id": "2146700a",
   "metadata": {},
   "source": [
    "## Negative Comment Test"
   ]
  },
  {
   "cell_type": "code",
   "execution_count": null,
   "id": "39147ef4",
   "metadata": {},
   "outputs": [],
   "source": [
    "# test on video with positive comments\n",
    "# https://www.youtube.com/watch?v=YbJOTdZBX1g&t (2018 Youtube Rewind)\n",
    "\n",
    "test_2 = main()"
   ]
  },
  {
   "cell_type": "code",
   "execution_count": null,
   "id": "22599544",
   "metadata": {},
   "outputs": [],
   "source": [
    "print(f'Average Compound Score {test_2.compound_score.mean()}')"
   ]
  },
  {
   "cell_type": "code",
   "execution_count": null,
   "id": "68fd4e43",
   "metadata": {},
   "outputs": [],
   "source": [
    "# scatterplot test (NOT GREAT)\n",
    "plt.scatter(test_2.index, test_2.compound_score, color='r')"
   ]
  },
  {
   "cell_type": "code",
   "execution_count": null,
   "id": "ff52e9cc",
   "metadata": {},
   "outputs": [],
   "source": [
    "# swarmplot test (BETTER)\n",
    "sns.swarmplot(x=test_2.compound_score, color='r')"
   ]
  },
  {
   "cell_type": "code",
   "execution_count": null,
   "id": "6e66326d",
   "metadata": {},
   "outputs": [],
   "source": [
    "#density plot (WHAT IS THIS EVEN)\n",
    "test_2.compound_score.plot(kind='density',color='r')"
   ]
  },
  {
   "cell_type": "code",
   "execution_count": null,
   "id": "da335319",
   "metadata": {},
   "outputs": [],
   "source": [
    "#violinplot test (I LIKE IT BUT NEED MORE INFO)\n",
    "sns.violinplot(x=test_2.compound_score, color='r')"
   ]
  },
  {
   "cell_type": "code",
   "execution_count": null,
   "id": "7f9bcc8b",
   "metadata": {},
   "outputs": [],
   "source": [
    "#histogram test\n",
    "plt.hist(test_2.compound_score, color='r')"
   ]
  },
  {
   "cell_type": "markdown",
   "id": "1f157253",
   "metadata": {},
   "source": [
    "## Comparing the Two Videos"
   ]
  },
  {
   "cell_type": "code",
   "execution_count": null,
   "id": "bcab42a1",
   "metadata": {},
   "outputs": [],
   "source": [
    "test['video'] = 'Money and Death Podcast'"
   ]
  },
  {
   "cell_type": "code",
   "execution_count": null,
   "id": "4332545c",
   "metadata": {},
   "outputs": [],
   "source": [
    "test_2['video'] = '2018 Youtube Rewind'"
   ]
  },
  {
   "cell_type": "code",
   "execution_count": null,
   "id": "79dfcafe",
   "metadata": {},
   "outputs": [],
   "source": [
    "compare_df = pd.concat([test,test_2])"
   ]
  },
  {
   "cell_type": "code",
   "execution_count": null,
   "id": "6d33d1f4",
   "metadata": {},
   "outputs": [],
   "source": [
    "compare_df['dummy'] = 0"
   ]
  },
  {
   "cell_type": "code",
   "execution_count": null,
   "id": "47431c3e",
   "metadata": {},
   "outputs": [],
   "source": [
    "plot = sns.violinplot(data=compare_df, y='compound_score', split=True, hue='video', x='dummy')\n",
    "picture = plot.get_figure()\n",
    "picture.savefig('output.png')"
   ]
  },
  {
   "cell_type": "markdown",
   "id": "b56b5a22",
   "metadata": {},
   "source": [
    "### Tokenize Document"
   ]
  },
  {
   "cell_type": "code",
   "execution_count": null,
   "id": "4c012b9f",
   "metadata": {},
   "outputs": [],
   "source": [
    "file = \"Resources/Corpus_Podcast\""
   ]
  },
  {
   "cell_type": "code",
   "execution_count": null,
   "id": "01b81827",
   "metadata": {},
   "outputs": [],
   "source": [
    "with open(file) as f:\n",
    "    raw_text = f.readlines()"
   ]
  },
  {
   "cell_type": "code",
   "execution_count": null,
   "id": "f5d3fd57",
   "metadata": {},
   "outputs": [],
   "source": [
    "def to_tokens(dirty_text):\n",
    "    \n",
    "    big_string = ' '.join(dirty_text).lower() # join and lower into big string\n",
    "    big_string = re.sub(r\"[^a-z0-9'\\s]\", '', big_string) #drop punctuation\n",
    "    big_string = re.sub(r'\\d+', '', big_string) # remove numbers\n",
    "    \n",
    "    tokens = nltk.word_tokenize(big_string) # tokenize with nltk\n",
    "    print(f'Your text is now {len(tokens)} tokens.')\n",
    "    \n",
    "    print(\"Drop it like it's stop.\")\n",
    "    #loop thru words and strip stop words\n",
    "    cleaned_words = []\n",
    "    for token in tokens:\n",
    "        if token not in stopwords.words('english'):\n",
    "            cleaned_words.append(token)\n",
    "            \n",
    "    print(f'Now your text is only {len(cleaned_words)} tokens.')\n",
    "    \n",
    "    return tokens"
   ]
  },
  {
   "cell_type": "code",
   "execution_count": null,
   "id": "51ba7e7b",
   "metadata": {},
   "outputs": [],
   "source": [
    "tokens = to_tokens(raw_text)\n",
    "tokens"
   ]
  },
  {
   "cell_type": "code",
   "execution_count": null,
   "id": "7e75aaea",
   "metadata": {},
   "outputs": [],
   "source": [
    "def score_text(dirty_text):\n",
    "    \n",
    "    big_string = ' '.join(dirty_text).lower() # join and lower into big string\n",
    "    big_string = big_string.replace('.','').replace(',','') #drop commas and periods\n",
    "    \n",
    "    sia = SentimentIntensityAnalyzer()\n",
    "    siaOut = sia.polarity_scores(big_string)\n",
    "    print(siaOut)"
   ]
  },
  {
   "cell_type": "code",
   "execution_count": null,
   "id": "b43c3529",
   "metadata": {},
   "outputs": [],
   "source": [
    "score_text(tokens)"
   ]
  },
  {
   "cell_type": "code",
   "execution_count": null,
   "id": "5d687896",
   "metadata": {},
   "outputs": [],
   "source": [
    "score_text(raw_text)"
   ]
  },
  {
   "cell_type": "code",
   "execution_count": null,
   "id": "a8d05a24",
   "metadata": {},
   "outputs": [],
   "source": []
  }
 ],
 "metadata": {
  "kernelspec": {
   "display_name": "Python 3",
   "language": "python",
   "name": "python3"
  },
  "language_info": {
   "codemirror_mode": {
    "name": "ipython",
    "version": 3
   },
   "file_extension": ".py",
   "mimetype": "text/x-python",
   "name": "python",
   "nbconvert_exporter": "python",
   "pygments_lexer": "ipython3",
   "version": "3.8.8"
  }
 },
 "nbformat": 4,
 "nbformat_minor": 5
}
