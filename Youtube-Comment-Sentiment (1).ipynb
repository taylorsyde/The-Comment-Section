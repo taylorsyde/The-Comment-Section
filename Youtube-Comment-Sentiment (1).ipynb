{
 "cells": [
  {
   "cell_type": "markdown",
   "id": "976dcb5b",
   "metadata": {},
   "source": [
    "## Import Dependancies"
   ]
  },
  {
   "cell_type": "code",
   "execution_count": 99,
   "id": "f046e027",
   "metadata": {},
   "outputs": [],
   "source": [
    "#scraping tools\n",
    "from urllib.error import HTTPError\n",
    "from datetime import datetime\n",
    "import json\n",
    "from bs4 import BeautifulSoup as bs\n",
    "import pandas as pd\n",
    "import os\n",
    "import numpy as np\n",
    "import requests\n",
    "\n",
    "# NLP tools\n",
    "import pandas as pd\n",
    "from collections import Counter\n",
    "import re\n",
    "from nltk.stem import WordNetLemmatizer, PorterStemmer, SnowballStemmer\n",
    "from nltk.corpus import stopwords\n",
    "import nltk\n",
    "from nltk.tokenize import word_tokenize\n",
    "from nltk.sentiment import SentimentIntensityAnalyzer\n",
    "\n",
    "#import API key\n",
    "from keys import magic_key\n",
    "\n",
    "#viz tools\n",
    "import matplotlib.pyplot as plt\n",
    "import seaborn as sns"
   ]
  },
  {
   "cell_type": "markdown",
   "id": "16d4e1e4",
   "metadata": {},
   "source": [
    "### Get YouTube Transcript (Currently Broken)\n",
    "\n",
    "Apparently you can't scrape the transcripts the old fashioned way. "
   ]
  },
  {
   "cell_type": "code",
   "execution_count": null,
   "id": "fa474799",
   "metadata": {},
   "outputs": [],
   "source": [
    "# print(\"Drop in the link to the youtube video.\")\n",
    "# url = input()\n",
    "\n",
    "# # https://www.youtube.com/watch?v=jCZKEnThrjI"
   ]
  },
  {
   "cell_type": "code",
   "execution_count": null,
   "id": "68505a62",
   "metadata": {},
   "outputs": [],
   "source": [
    "# print (f'Your url is {url}')\n",
    "# with request.urlopen(url) as response:\n",
    "#     resp = response.read()\n",
    "#     soup = bs(resp, \"html.parser\")\n",
    "#     print(\"Your youtube soup is ready!\")"
   ]
  },
  {
   "cell_type": "code",
   "execution_count": null,
   "id": "3b36e985",
   "metadata": {},
   "outputs": [],
   "source": [
    "# print(soup)"
   ]
  },
  {
   "cell_type": "code",
   "execution_count": null,
   "id": "afd65b0b",
   "metadata": {},
   "outputs": [],
   "source": [
    "# #pull in title and transcript from the soup\n",
    "# lil_soup = soup.find_all(\"div\", id_=\"segments-container\")\n",
    "# print(lil_soup)"
   ]
  },
  {
   "cell_type": "markdown",
   "id": "ee7d13e1",
   "metadata": {},
   "source": [
    "### Functions that Returns Youtube Comments\n",
    "Uses the Youtube API"
   ]
  },
  {
   "cell_type": "code",
   "execution_count": 28,
   "id": "c8357e20",
   "metadata": {},
   "outputs": [],
   "source": [
    "#function for getting Youtube comments with the Youtube API\n",
    "def get_comments():\n",
    "    \n",
    "    #get the parameters url from the user and create a \n",
    "    video_url = input(\"Drop in the Youtube Link: \")\n",
    "    print ('Got it! Thanks')\n",
    "    video_id = video_url[32:] #extract the video id from the url\n",
    "    # print(video_id)\n",
    "    \n",
    "    num_comments = input(\"How many comments do you what to explore? \")\n",
    "    max_comments = re.sub('[^0-9]','', num_comments) #drop any letters\n",
    "    print(f'{max_comments}, huh? Whatever you say boss.')\n",
    "    # print(max_comments)\n",
    "    \n",
    "    # init API query\n",
    "    base_url = f\"https://www.googleapis.com/youtube/v3/commentThreads?key={magic_key}\"\n",
    "    params = f\"&textFormat=plainText&part=snippet&videoId={video_id}&maxResults={max_comments}\"\n",
    "    \n",
    "    #CALL API\n",
    "    query_url = base_url + params\n",
    "    response = requests.get(query_url).json()\n",
    "    \n",
    "    \n",
    "    # LOOP THRU COMMENTS AND GET THAT YUMMY COMMENT TEXT\n",
    "    # response['items'][10] # this is the format of a SINGLE COMM\n",
    "    #raw_comment_list = response['items']\n",
    "\n",
    "    num_comments = response['pageInfo']['totalResults'] # number of comments acutally returned from API\n",
    "    counter = np.arange(0,num_comments) # create list to count thru\n",
    "    print(f'We found {num_comments} comments on this video.')\n",
    "\n",
    "    comments = []\n",
    "    for c in counter:\n",
    "        comment_text = response['items'][c]['snippet']['topLevelComment']['snippet']['textOriginal']\n",
    "        #print(comment_text)\n",
    "        #print('------------------')\n",
    "        comments.append(comment_text)\n",
    "        \n",
    "    return comments"
   ]
  },
  {
   "cell_type": "code",
   "execution_count": 100,
   "id": "10269e7d",
   "metadata": {},
   "outputs": [
    {
     "name": "stdout",
     "output_type": "stream",
     "text": [
      "Drop in the Youtube Link: https://www.youtube.com/watch?v=jCZKEnThrjI\n",
      "Got it! Thanks\n",
      "How many comments do you what to explore? 100\n",
      "100, huh? Whatever you say boss.\n",
      "We found 100 comments on this video.\n"
     ]
    }
   ],
   "source": [
    "comments = get_comments()"
   ]
  },
  {
   "cell_type": "markdown",
   "id": "780aac3d",
   "metadata": {},
   "source": [
    "### Functions to Determine Sentiment"
   ]
  },
  {
   "cell_type": "code",
   "execution_count": 101,
   "id": "1f792841",
   "metadata": {},
   "outputs": [],
   "source": [
    "def get_sentimental(string_list):\n",
    "    sia = SentimentIntensityAnalyzer()\n",
    "\n",
    "    #init lists\n",
    "    text = []\n",
    "    neg_score = []\n",
    "    neu_score = []\n",
    "    pos_score = []\n",
    "    compound_score = []\n",
    "\n",
    "    for string in string_list:\n",
    "        siaOut = sia.polarity_scores(string)\n",
    "\n",
    "        text.append(string)\n",
    "        neg_score.append(siaOut['neg'])\n",
    "        neu_score.append(siaOut['neu'])\n",
    "        pos_score.append(siaOut['pos'])\n",
    "        compound_score.append(siaOut['compound'])\n",
    "\n",
    "    #     print(comment)\n",
    "    #     print(siaOut)\n",
    "    #     print('-------------')\n",
    "\n",
    "    # create a dataframe of the comments and their sentiments\n",
    "    df = pd.DataFrame({'text': text,\n",
    "                       'neg_score': neg_score,\n",
    "                       'neu_score': neu_score,\n",
    "                       'pos_score': pos_score,\n",
    "                       'compound_score': compound_score\n",
    "                      })\n",
    "    return df"
   ]
  },
  {
   "cell_type": "code",
   "execution_count": 102,
   "id": "b1bac749",
   "metadata": {},
   "outputs": [],
   "source": [
    "test = get_sentimental(comments)"
   ]
  },
  {
   "cell_type": "code",
   "execution_count": 142,
   "id": "0cd87931",
   "metadata": {},
   "outputs": [],
   "source": [
    "def main():\n",
    "    comments = get_comments()\n",
    "    df = get_sentimental(comments)\n",
    "    \n",
    "    return df"
   ]
  },
  {
   "cell_type": "code",
   "execution_count": 143,
   "id": "f79b4e61",
   "metadata": {},
   "outputs": [
    {
     "name": "stdout",
     "output_type": "stream",
     "text": [
      "Drop in the Youtube Link: https://www.youtube.com/watch?v=jCZKEnThrjI&t=7s\n",
      "Got it! Thanks\n",
      "How many comments do you what to explore? 300\n",
      "300, huh? Whatever you say boss.\n",
      "We found 100 comments on this video.\n"
     ]
    }
   ],
   "source": [
    "# test on video with positive comments\n",
    "# https://www.youtube.com/watch?v=jCZKEnThrjI&t=7s (Caitlin Doughty and Chelsea Fagan Podcast)\n",
    "\n",
    "test = main()"
   ]
  },
  {
   "cell_type": "code",
   "execution_count": 150,
   "id": "6c2792aa",
   "metadata": {},
   "outputs": [
    {
     "name": "stdout",
     "output_type": "stream",
     "text": [
      "Average Compound Score 0.270128\n"
     ]
    }
   ],
   "source": [
    "print(f'Average Compound Score {test.compound_score.mean()}')"
   ]
  },
  {
   "cell_type": "code",
   "execution_count": 144,
   "id": "f8bd9b01",
   "metadata": {},
   "outputs": [
    {
     "data": {
      "text/plain": [
       "<AxesSubplot:xlabel='compound_score'>"
      ]
     },
     "execution_count": 144,
     "metadata": {},
     "output_type": "execute_result"
    },
    {
     "data": {
      "image/png": "[encoded data removed]",
      "text/plain": [
       "<Figure size 432x288 with 1 Axes>"
      ]
     },
     "metadata": {
      "needs_background": "light"
     },
     "output_type": "display_data"
    }
   ],
   "source": [
    "# swarmplot test\n",
    "sns.swarmplot(x=test.compound_score)"
   ]
  },
  {
   "cell_type": "code",
   "execution_count": 145,
   "id": "76c27084",
   "metadata": {},
   "outputs": [
    {
     "data": {
      "text/plain": [
       "<AxesSubplot:xlabel='compound_score'>"
      ]
     },
     "execution_count": 145,
     "metadata": {},
     "output_type": "execute_result"
    },
    {
     "data": {
      "image/png": "[encoded data removed]",
      "text/plain": [
       "<Figure size 432x288 with 1 Axes>"
      ]
     },
     "metadata": {
      "needs_background": "light"
     },
     "output_type": "display_data"
    }
   ],
   "source": [
    "#violinplot test\n",
    "sns.violinplot(x=test.compound_score)"
   ]
  },
  {
   "cell_type": "code",
   "execution_count": 146,
   "id": "09fca945",
   "metadata": {},
   "outputs": [
    {
     "data": {
      "text/plain": [
       "(array([ 5.,  5.,  8.,  4., 15.,  4., 12.,  8., 22., 17.]),\n",
       " array([-0.9416 , -0.74881, -0.55602, -0.36323, -0.17044,  0.02235,\n",
       "         0.21514,  0.40793,  0.60072,  0.79351,  0.9863 ]),\n",
       " <BarContainer object of 10 artists>)"
      ]
     },
     "execution_count": 146,
     "metadata": {},
     "output_type": "execute_result"
    },
    {
     "data": {
      "image/png": "[encoded data removed]",
      "text/plain": [
       "<Figure size 432x288 with 1 Axes>"
      ]
     },
     "metadata": {
      "needs_background": "light"
     },
     "output_type": "display_data"
    }
   ],
   "source": [
    "#histogram test\n",
    "plt.hist(test.compound_score)"
   ]
  },
  {
   "cell_type": "markdown",
   "id": "b56b5a22",
   "metadata": {},
   "source": [
    "### Tokenize Document"
   ]
  },
  {
   "cell_type": "code",
   "execution_count": null,
   "id": "4c012b9f",
   "metadata": {},
   "outputs": [],
   "source": [
    "file = \"Resources/Corpus_Podcast\""
   ]
  },
  {
   "cell_type": "code",
   "execution_count": null,
   "id": "01b81827",
   "metadata": {},
   "outputs": [],
   "source": [
    "with open(file) as f:\n",
    "    raw_text = f.readlines()"
   ]
  },
  {
   "cell_type": "code",
   "execution_count": null,
   "id": "f5d3fd57",
   "metadata": {},
   "outputs": [],
   "source": [
    "def to_tokens(dirty_text):\n",
    "    \n",
    "    big_string = ' '.join(dirty_text).lower() # join and lower into big string\n",
    "    big_string = re.sub(r\"[^a-z0-9'\\s]\", '', big_string) #drop punctuation\n",
    "    big_string = re.sub(r'\\d+', '', big_string) # remove numbers\n",
    "    \n",
    "    tokens = nltk.word_tokenize(big_string) # tokenize with nltk\n",
    "    print(f'Your text is now {len(tokens)} tokens.')\n",
    "    \n",
    "    print(\"Drop it like it's stop.\")\n",
    "    #loop thru words and strip stop words\n",
    "    cleaned_words = []\n",
    "    for token in tokens:\n",
    "        if token not in stopwords.words('english'):\n",
    "            cleaned_words.append(token)\n",
    "            \n",
    "    print(f'Now your text is only {len(cleaned_words)} tokens.')\n",
    "    \n",
    "    return tokens"
   ]
  },
  {
   "cell_type": "code",
   "execution_count": null,
   "id": "51ba7e7b",
   "metadata": {},
   "outputs": [],
   "source": [
    "tokens = to_tokens(raw_text)\n",
    "tokens"
   ]
  },
  {
   "cell_type": "code",
   "execution_count": null,
   "id": "7e75aaea",
   "metadata": {},
   "outputs": [],
   "source": [
    "def score_text(dirty_text):\n",
    "    \n",
    "    big_string = ' '.join(dirty_text).lower() # join and lower into big string\n",
    "    big_string = big_string.replace('.','').replace(',','') #drop commas and periods\n",
    "    \n",
    "    sia = SentimentIntensityAnalyzer()\n",
    "    siaOut = sia.polarity_scores(big_string)\n",
    "    print(siaOut)"
   ]
  },
  {
   "cell_type": "code",
   "execution_count": null,
   "id": "b43c3529",
   "metadata": {},
   "outputs": [],
   "source": [
    "score_text(tokens)"
   ]
  },
  {
   "cell_type": "code",
   "execution_count": null,
   "id": "5d687896",
   "metadata": {},
   "outputs": [],
   "source": [
    "score_text(raw_text)"
   ]
  },
  {
   "cell_type": "code",
   "execution_count": null,
   "id": "a8d05a24",
   "metadata": {},
   "outputs": [],
   "source": []
  }
 ],
 "metadata": {
  "kernelspec": {
   "display_name": "Python 3",
   "language": "python",
   "name": "python3"
  },
  "language_info": {
   "codemirror_mode": {
    "name": "ipython",
    "version": 3
   },
   "file_extension": ".py",
   "mimetype": "text/x-python",
   "name": "python",
   "nbconvert_exporter": "python",
   "pygments_lexer": "ipython3",
   "version": "3.8.8"
  }
 },
 "nbformat": 4,
 "nbformat_minor": 5
}
