{
 "cells": [
  {
   "cell_type": "markdown",
   "id": "976dcb5b",
   "metadata": {},
   "source": [
    "## Import Dependancies"
   ]
  },
  {
   "cell_type": "code",
   "execution_count": 5,
   "id": "f046e027",
   "metadata": {},
   "outputs": [],
   "source": [
    "#scraping tools\n",
    "from urllib.error import HTTPError\n",
    "from datetime import datetime\n",
    "import json\n",
    "from bs4 import BeautifulSoup as bs\n",
    "import pandas as pd\n",
    "import os\n",
    "import numpy as np\n",
    "import requests\n",
    "\n",
    "# NLP tools\n",
    "import pandas as pd\n",
    "from collections import Counter\n",
    "import re\n",
    "from nltk.stem import WordNetLemmatizer, PorterStemmer, SnowballStemmer\n",
    "from nltk.corpus import stopwords\n",
    "import nltk\n",
    "from nltk.tokenize import word_tokenize\n",
    "from nltk.sentiment import SentimentIntensityAnalyzer\n",
    "\n",
    "#import API key\n",
    "from keys import magic_key"
   ]
  },
  {
   "cell_type": "markdown",
   "id": "16d4e1e4",
   "metadata": {},
   "source": [
    "### Get YouTube Transcript (Currently Broken)\n",
    "\n",
    "Apparently you can't scrape the transcripts the old fashioned way. "
   ]
  },
  {
   "cell_type": "code",
   "execution_count": null,
   "id": "fa474799",
   "metadata": {},
   "outputs": [],
   "source": [
    "# print(\"Drop in the link to the youtube video.\")\n",
    "# url = input()\n",
    "\n",
    "# # https://www.youtube.com/watch?v=jCZKEnThrjI"
   ]
  },
  {
   "cell_type": "code",
   "execution_count": null,
   "id": "68505a62",
   "metadata": {},
   "outputs": [],
   "source": [
    "# print (f'Your url is {url}')\n",
    "# with request.urlopen(url) as response:\n",
    "#     resp = response.read()\n",
    "#     soup = bs(resp, \"html.parser\")\n",
    "#     print(\"Your youtube soup is ready!\")"
   ]
  },
  {
   "cell_type": "code",
   "execution_count": null,
   "id": "3b36e985",
   "metadata": {},
   "outputs": [],
   "source": [
    "# print(soup)"
   ]
  },
  {
   "cell_type": "code",
   "execution_count": null,
   "id": "afd65b0b",
   "metadata": {},
   "outputs": [],
   "source": [
    "# #pull in title and transcript from the soup\n",
    "# lil_soup = soup.find_all(\"div\", id_=\"segments-container\")\n",
    "# print(lil_soup)"
   ]
  },
  {
   "cell_type": "markdown",
   "id": "ee7d13e1",
   "metadata": {},
   "source": [
    "### Youtube API"
   ]
  },
  {
   "cell_type": "code",
   "execution_count": 3,
   "id": "c8357e20",
   "metadata": {},
   "outputs": [],
   "source": [
    "#function for getting Youtube comments with the Youtube API\n",
    "def get_comments():\n",
    "    \n",
    "    #get the parameters url from the user and create a \n",
    "    video_url = input(\"Drop in the Youtube Link: \")\n",
    "    print ('Got it! Thanks')\n",
    "    video_id = video_url[32:] #extract the video id from the url\n",
    "    # print(video_id)\n",
    "    \n",
    "    comment_num = input(\"How many comments do you what to explore? \")\n",
    "    max_comments = re.sub('[^0-9]','', comment_num) #drop any letters\n",
    "    print(f'{max_comments}, huh? Whatever you say boss.')\n",
    "    # print(max_comments)\n",
    "    \n",
    "    # init API query\n",
    "    base_url = f\"https://www.googleapis.com/youtube/v3/commentThreads?key={magic_key}\"\n",
    "    params = f\"&textFormat=plainText&part=snippet&videoId={video_id}&maxResults={max_comments}\"\n",
    "    \n",
    "    #CALL API\n",
    "    query_url = base_url + params\n",
    "    response = requests.get(query_url).json()\n",
    "    \n",
    "    \n",
    "    # LOOP THRU COMMENTS AND GET THAT YUMMY COMMENT TEXT\n",
    "    # response['items'][10] # this is the format of a SINGLE COMM\n",
    "    #raw_comment_list = response['items']\n",
    "\n",
    "    num_comments = response['pageInfo']['totalResults'] # number of comments acutally returned from API\n",
    "    counter = np.arange(0,num_comments) # create list to count thru\n",
    "    print(f'We found {num_comments} comments on this video.')\n",
    "\n",
    "    comment_list = []\n",
    "    for c in counter:\n",
    "        comment_text = response['items'][c]['snippet']['topLevelComment']['snippet']['textOriginal']\n",
    "        #print(comment_text)\n",
    "        #print('------------------')\n",
    "        comment_list.append(comment_text)\n",
    "        \n",
    "    return comment_list"
   ]
  },
  {
   "cell_type": "code",
   "execution_count": 6,
   "id": "10269e7d",
   "metadata": {},
   "outputs": [
    {
     "name": "stdout",
     "output_type": "stream",
     "text": [
      "Drop in the Youtube Link: https://www.youtube.com/watch?v=DfWQLbIHPPk\n",
      "Got it! Thanks\n",
      "How many comments do you what to explore? 50\n",
      "50, huh? Whatever you say boss.\n",
      "We found 50 comments on this video.\n"
     ]
    },
    {
     "data": {
      "text/plain": [
       "['Oh I’ve missed you! I’ve been worried because you haven’t posted 🙂 How are you holding up?',\n",
       " 'No, it isn’t.  (At least not anywhere that I’m aware of.)',\n",
       " 'THE SHADEEE\\nlove the shade towards this nuts, how they fell for this lies and alt right mummy is beyond my reason, also the comedic timing is so on point 😂😂😂',\n",
       " 'Was she/they completely stoned all of their lives or what???',\n",
       " 'Not unusual..they were also caught worshiping a Mr. Potato Head in their back yard',\n",
       " 'I would love to know how they mummified her. I know that mummification is historically a very complex and thorough process. i cant wrap my head around a small group of laypeople properly mummifying someone. \\n\\nI have been unable to find anything about it online',\n",
       " 'Prosecutors have dropped criminal charges against four of the seven members of the Love Has Won cult, including the man who called himself Father God, according to Saguache County court records.',\n",
       " \"I'm trying to figure out what to say all I can say is love her or hate her she's in the arms of God and nothing more can be said..\",\n",
       " \"I'm trying to figure out what to say all I can say is love her or hate her she's arms of God and nothing more can be said..\",\n",
       " '\"Did you folks wake up this morning-\"\\nMe: \"nope\"',\n",
       " 'When someone claims to be above others in divine right, they have a darkness in their soul. It is beautiful to be a normal human being and all we should and need to be.',\n",
       " 'The guy from New Jersey that was lured to Crestone, only to be abandoned and drugged in the desert.',\n",
       " 'Hurting animals,,,what abitch,',\n",
       " 'How does one go from working mom to absolute nut job running a cult?',\n",
       " '5:54 Every sentence has some history behind it',\n",
       " 'i think she got pretty damn lucky that kauai has no active volcanoes. absolutely NOT smart to claim to be a god (or kupua in this case), much less one of the most vindictive in a pantheon like pele.',\n",
       " \"You're hilarious 😆 I love you're style of telling a story! Thank you for so much info and entertainment in the same video usually it's one of the other.\",\n",
       " 'This cult leader disturbingly looks like Aileen Wournos.',\n",
       " 'Oh, I love how you inserted Gwyneth\\'s \"GOOP\" (and that \"y\" you added… I often wondered if no-one around her spotted that).',\n",
       " 'There are claims that towards the end of her life she asked her followers/caretakers to take her to the hospital for treatment. She admitted to being a fraud. However they were so brainwashed that they told her that she was delusional, that she wasn’t a fraud, and they had previously promised to never take her to a hospital so they just let her die….. or so that’s the claim that was made',\n",
       " 'IM A SLUT',\n",
       " 'This is so informative but also soooo funny because of your jokes! 😂',\n",
       " 'oh of course, a hawaiian goddess gets reincarnated as a bully with an alcoholism issue who’s not even hawaiian. just regular deity things✨',\n",
       " 'No one ever comes back as a regular person ?',\n",
       " \"I know I'm a year late and someone may have already mentioned this, but the purple/blue skin is indeed a side effect of too much colloidal silver. It's called Argyria and is permanent once it happens. Idk if it is fatal but it does in fact create blue people.\",\n",
       " 'Hell, that all brings to mind Melquíades, The Exhumed Archbishop, from the game _Blasphemous._ So revered in life was he that when the Miracle took his life from this world, his followers dug up his body from the catacombs, adorned and blessed the remains, and carried him in reverence back out into the world, as if still alive and supported by the many hands of his flock. Bones cleansed in wine and adorned with silk, gold, and all manner of valuables and jewels sounds a damn sight better than wrapped in christmas lights and a sleeping bag, though.',\n",
       " 'I prefer \"High Control Group\". Self descriptive, and explains exactly whats shitty about the situation. Kind of like the distinction between PTSD and shell shock.',\n",
       " 'In doing research for a novel I was writing, one of the the most common tendencies I learned is that nobody actively in a cult can ever admit/believe they are in a cult.',\n",
       " 'Mother God … had become … Mummy Bod …😉',\n",
       " 'So I guess...love has won?',\n",
       " \"LoveHasWon is such a joke. They're the opposite of love entirely.\",\n",
       " 'I\\'ve watched six videos about this woman just looking for an explanation about her gray skin. I don\\'t care about her stupid ridiculous cult. I wanted to know why her skin was gray! The second you said, \"colloidal silver\" I said, \"Oooooh. Thank you!\" \\n\\nThank you!',\n",
       " 'Wait was that the lady from that Dr Phil episode?',\n",
       " \"This was basically the karenest karen starting a karen kult and getting to lie in state forever. She's Karen Lenin.\",\n",
       " 'are you allowed to mummify a body ancient Egyptian style today? (one of those odd questions...)',\n",
       " 'And makeup on corpses is considered extremely normal, so why not glitter makeup?',\n",
       " 'Goopey Woopey 😂😂😂',\n",
       " 'I love your style Caitlin, your sense of humor, and your frankness.',\n",
       " \"I can't remember if I commented this last time I watched this video, but I remember seeing the ads for this group when I was younger. I wasn't sure for awhile because it seemed like this was a recent group, but the name and colors and symbol are so imbedded in my memory that I don't think it's a different group I'm remembering.\\n\\nI can't remember why but I remember being really uncomfortable with the ads whenever they showed up. They popped up on childrens game sites a lot too.\",\n",
       " 'I love all your vids but this is my fav so far. It’s just so weird and you make it so funny and interesting.',\n",
       " 'i am a mortician.',\n",
       " 'what smellls worse then a rotten horse  head   Mortian===lol',\n",
       " 'THE MUMMY GOD JOKE GOT ME NGL 11:52',\n",
       " 'That has got to be one of the saddest ways to lose a mother. May her children find peace.\\n\\nok, evil twin here... lol, I really wanted you to say... This episode was brought to you by a generous donation from  LOVE HAS ONE.  You gotta  admit that would have been funny.',\n",
       " 'Morphine is organic too tho',\n",
       " \"All I want to know is the total death counts on the day she died. Can we prove 144, 000 did not leave with her? I'm scared. /s\",\n",
       " \"Good for the protesters. You should stand up for your neighborhood. And I am glad they didt get into any trouble. Also Jesus and Marlyin wow that's a pretty diverse set of life's. Did you see the video of how they treated the little girl that lived there it was terrible I was baffled cps didt step in after that video made it out.\",\n",
       " 'Not only that the stream where they say mother asked for us to take her to the doctors and we won’t we told her no…. That’s sad I bet Amy suffered… she was mentally ill….',\n",
       " \"Whilst I do know colloidal silver can be healthy for you and it has helped me a bit it can't cure covid it can merely try to stop it (emphasis on try)\",\n",
       " \"She's no crazier than you are🤣🤣🤣\"]"
      ]
     },
     "execution_count": 6,
     "metadata": {},
     "output_type": "execute_result"
    }
   ],
   "source": [
    "get_comments()"
   ]
  },
  {
   "cell_type": "code",
   "execution_count": null,
   "id": "ea63f90a",
   "metadata": {},
   "outputs": [],
   "source": [
    "get_comments()"
   ]
  },
  {
   "cell_type": "code",
   "execution_count": null,
   "id": "5e3f09b7",
   "metadata": {},
   "outputs": [],
   "source": [
    "#CALL API \n",
    "video_id = 'jCZKEnThrjI'\n",
    "max_comments = '50'\n",
    "\n",
    "base_url = f\"https://www.googleapis.com/youtube/v3/commentThreads?key={secret_key}\"\n",
    "params = f\"&textFormat=plainText&part=snippet&videoId={video_id}&maxResults={max_comments}\""
   ]
  },
  {
   "cell_type": "code",
   "execution_count": null,
   "id": "06d02eee",
   "metadata": {},
   "outputs": [],
   "source": [
    "#CALL API (run this cell with caution, it could cost me money)\n",
    "\n",
    "query_url = base_url + params\n",
    "response = requests.get(query_url).json()\n",
    "\n",
    "# response['items'][10] # this is the format of a SINGLE COMMENT"
   ]
  },
  {
   "cell_type": "code",
   "execution_count": null,
   "id": "40478f82",
   "metadata": {},
   "outputs": [],
   "source": [
    "response"
   ]
  },
  {
   "cell_type": "code",
   "execution_count": null,
   "id": "1f792841",
   "metadata": {},
   "outputs": [],
   "source": [
    "# response"
   ]
  },
  {
   "cell_type": "markdown",
   "id": "b56b5a22",
   "metadata": {},
   "source": [
    "### Tokenize Document"
   ]
  },
  {
   "cell_type": "code",
   "execution_count": null,
   "id": "4c012b9f",
   "metadata": {},
   "outputs": [],
   "source": [
    "file = \"Resources/Corpus_Podcast\""
   ]
  },
  {
   "cell_type": "code",
   "execution_count": null,
   "id": "01b81827",
   "metadata": {},
   "outputs": [],
   "source": [
    "with open(file) as f:\n",
    "    raw_text = f.readlines()"
   ]
  },
  {
   "cell_type": "code",
   "execution_count": null,
   "id": "f5d3fd57",
   "metadata": {},
   "outputs": [],
   "source": [
    "def to_tokens(dirty_text):\n",
    "    \n",
    "    big_string = ' '.join(dirty_text).lower() # join and lower into big string\n",
    "    big_string = re.sub(r\"[^a-z0-9'\\s]\", '', big_string) #drop punctuation\n",
    "    big_string = re.sub(r'\\d+', '', big_string) # remove numbers\n",
    "    \n",
    "    tokens = nltk.word_tokenize(big_string) # tokenize with nltk\n",
    "    print(f'Your text is now {len(tokens)} tokens.')\n",
    "    \n",
    "    print(\"Drop it like it's stop.\")\n",
    "    #loop thru words and strip stop words\n",
    "    cleaned_words = []\n",
    "    for token in tokens:\n",
    "        if token not in stopwords.words('english'):\n",
    "            cleaned_words.append(token)\n",
    "            \n",
    "    print(f'Now your text is only {len(cleaned_words)} tokens.')\n",
    "    \n",
    "    return tokens"
   ]
  },
  {
   "cell_type": "code",
   "execution_count": null,
   "id": "51ba7e7b",
   "metadata": {},
   "outputs": [],
   "source": [
    "tokens = to_tokens(raw_text)\n",
    "tokens"
   ]
  },
  {
   "cell_type": "code",
   "execution_count": null,
   "id": "7e75aaea",
   "metadata": {},
   "outputs": [],
   "source": [
    "def score_text(dirty_text):\n",
    "    \n",
    "    big_string = ' '.join(dirty_text).lower() # join and lower into big string\n",
    "    big_string = big_string.replace('.','').replace(',','') #drop commas and periods\n",
    "    \n",
    "    sia = SentimentIntensityAnalyzer()\n",
    "    siaOut = sia.polarity_scores(big_string)\n",
    "    print(siaOut)"
   ]
  },
  {
   "cell_type": "code",
   "execution_count": null,
   "id": "b43c3529",
   "metadata": {},
   "outputs": [],
   "source": [
    "score_text(tokens)"
   ]
  },
  {
   "cell_type": "code",
   "execution_count": null,
   "id": "5d687896",
   "metadata": {},
   "outputs": [],
   "source": [
    "score_text(raw_text)"
   ]
  },
  {
   "cell_type": "code",
   "execution_count": null,
   "id": "a8d05a24",
   "metadata": {},
   "outputs": [],
   "source": []
  }
 ],
 "metadata": {
  "kernelspec": {
   "display_name": "Python 3",
   "language": "python",
   "name": "python3"
  },
  "language_info": {
   "codemirror_mode": {
    "name": "ipython",
    "version": 3
   },
   "file_extension": ".py",
   "mimetype": "text/x-python",
   "name": "python",
   "nbconvert_exporter": "python",
   "pygments_lexer": "ipython3",
   "version": "3.8.8"
  }
 },
 "nbformat": 4,
 "nbformat_minor": 5
}
